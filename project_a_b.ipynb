{
  "cells": [
    {
      "cell_type": "markdown",
      "metadata": {
        "id": "view-in-github",
        "colab_type": "text"
      },
      "source": [
        "<a href=\"https://colab.research.google.com/github/Anastasiamay/Tinkoff/blob/main/project_a_b.ipynb\" target=\"_parent\"><img src=\"https://colab.research.google.com/assets/colab-badge.svg\" alt=\"Open In Colab\"/></a>"
      ]
    },
    {
      "cell_type": "markdown",
      "id": "96ac1922",
      "metadata": {
        "id": "96ac1922"
      },
      "source": [
        "Проекта по A/B - тестам"
      ]
    },
    {
      "cell_type": "markdown",
      "source": [
        "**Контекст**\n",
        "Мы много платим оператору из-за того,\n",
        "что он сам по каждому заданию\n",
        "звонит клиенту и ждёт ответа клиента.\n",
        "Мы хотим попробовать снизить затраты на операторов,\n",
        "внедрив систему,\n",
        "которая будет сама звонить человеку\n",
        "и в случае успеха перенаправлять задание оператору.\n",
        "        \n",
        "**Тест**\n",
        "Мы проводим тест,\n",
        "в рамках которого мы разбиваем весь поток\n",
        "на две части рановероятно,\n",
        "где одной части (контролю) мы продаём \n",
        "без автоматической системы дозвона,\n",
        "а второй части (тесту) - с ней.\n",
        "Целью этого теста\n",
        "является снижение расходов на задание.\n",
        "\n",
        "**Статистические вводные**\n",
        "Уровень значимости 5%.\n",
        "Мы хотели бы различать 5%-ное \n",
        "изменение целевой метрики\n",
        "с вероятностью 90%."
      ],
      "metadata": {
        "id": "cMi1ZWvej6zB"
      },
      "id": "cMi1ZWvej6zB"
    },
    {
      "cell_type": "code",
      "source": [
        "import pandas as pd\n",
        "import numpy as np\n",
        "import scipy.stats as st\n",
        "import seaborn as sns\n",
        "from scipy.stats import levene\n",
        "from scipy.stats import ks_2samp"
      ],
      "metadata": {
        "id": "BYwRXogbOE3O"
      },
      "id": "BYwRXogbOE3O",
      "execution_count": null,
      "outputs": []
    },
    {
      "cell_type": "code",
      "source": [
        "!gdown --id 17JYq7KEXHXbw9ftXLIIaIUe49DdQLg0n\n",
        "df = pd.read_csv('hist_telesales.csv')\n",
        "df"
      ],
      "metadata": {
        "colab": {
          "base_uri": "https://localhost:8080/",
          "height": 548
        },
        "id": "GHvMazhuNbhi",
        "outputId": "ed6bd579-0a58-499f-e40f-589e88807f84"
      },
      "id": "GHvMazhuNbhi",
      "execution_count": null,
      "outputs": [
        {
          "output_type": "stream",
          "name": "stdout",
          "text": [
            "/usr/local/lib/python3.10/dist-packages/gdown/cli.py:121: FutureWarning: Option `--id` was deprecated in version 4.3.1 and will be removed in 5.0. You don't need to pass it anymore to use a file ID.\n",
            "  warnings.warn(\n",
            "Downloading...\n",
            "From: https://drive.google.com/uc?id=17JYq7KEXHXbw9ftXLIIaIUe49DdQLg0n\n",
            "To: /content/hist_telesales.csv\n",
            "100% 1.46M/1.46M [00:00<00:00, 151MB/s]\n"
          ]
        },
        {
          "output_type": "execute_result",
          "data": {
            "text/plain": [
              "          ID  Флаг дозвона  Флаг продажи  Расходы    PV   NPV\n",
              "0          0             1             0       90     0   -90\n",
              "1          1             0             0        5     0    -5\n",
              "2          2             0             0       68     0   -68\n",
              "3          3             1             0       22     0   -22\n",
              "4          4             1             0       22     0   -22\n",
              "...      ...           ...           ...      ...   ...   ...\n",
              "72156  72156             1             1      577  1346   769\n",
              "72157  72157             0             0        8     0    -8\n",
              "72158  72158             0             0       23     0   -23\n",
              "72159  72159             0             0        4     0    -4\n",
              "72160  72160             1             1      132  1385  1253\n",
              "\n",
              "[72161 rows x 6 columns]"
            ],
            "text/html": [
              "\n",
              "  <div id=\"df-e42bb0e0-eee2-4686-987a-abdb4305dce0\">\n",
              "    <div class=\"colab-df-container\">\n",
              "      <div>\n",
              "<style scoped>\n",
              "    .dataframe tbody tr th:only-of-type {\n",
              "        vertical-align: middle;\n",
              "    }\n",
              "\n",
              "    .dataframe tbody tr th {\n",
              "        vertical-align: top;\n",
              "    }\n",
              "\n",
              "    .dataframe thead th {\n",
              "        text-align: right;\n",
              "    }\n",
              "</style>\n",
              "<table border=\"1\" class=\"dataframe\">\n",
              "  <thead>\n",
              "    <tr style=\"text-align: right;\">\n",
              "      <th></th>\n",
              "      <th>ID</th>\n",
              "      <th>Флаг дозвона</th>\n",
              "      <th>Флаг продажи</th>\n",
              "      <th>Расходы</th>\n",
              "      <th>PV</th>\n",
              "      <th>NPV</th>\n",
              "    </tr>\n",
              "  </thead>\n",
              "  <tbody>\n",
              "    <tr>\n",
              "      <th>0</th>\n",
              "      <td>0</td>\n",
              "      <td>1</td>\n",
              "      <td>0</td>\n",
              "      <td>90</td>\n",
              "      <td>0</td>\n",
              "      <td>-90</td>\n",
              "    </tr>\n",
              "    <tr>\n",
              "      <th>1</th>\n",
              "      <td>1</td>\n",
              "      <td>0</td>\n",
              "      <td>0</td>\n",
              "      <td>5</td>\n",
              "      <td>0</td>\n",
              "      <td>-5</td>\n",
              "    </tr>\n",
              "    <tr>\n",
              "      <th>2</th>\n",
              "      <td>2</td>\n",
              "      <td>0</td>\n",
              "      <td>0</td>\n",
              "      <td>68</td>\n",
              "      <td>0</td>\n",
              "      <td>-68</td>\n",
              "    </tr>\n",
              "    <tr>\n",
              "      <th>3</th>\n",
              "      <td>3</td>\n",
              "      <td>1</td>\n",
              "      <td>0</td>\n",
              "      <td>22</td>\n",
              "      <td>0</td>\n",
              "      <td>-22</td>\n",
              "    </tr>\n",
              "    <tr>\n",
              "      <th>4</th>\n",
              "      <td>4</td>\n",
              "      <td>1</td>\n",
              "      <td>0</td>\n",
              "      <td>22</td>\n",
              "      <td>0</td>\n",
              "      <td>-22</td>\n",
              "    </tr>\n",
              "    <tr>\n",
              "      <th>...</th>\n",
              "      <td>...</td>\n",
              "      <td>...</td>\n",
              "      <td>...</td>\n",
              "      <td>...</td>\n",
              "      <td>...</td>\n",
              "      <td>...</td>\n",
              "    </tr>\n",
              "    <tr>\n",
              "      <th>72156</th>\n",
              "      <td>72156</td>\n",
              "      <td>1</td>\n",
              "      <td>1</td>\n",
              "      <td>577</td>\n",
              "      <td>1346</td>\n",
              "      <td>769</td>\n",
              "    </tr>\n",
              "    <tr>\n",
              "      <th>72157</th>\n",
              "      <td>72157</td>\n",
              "      <td>0</td>\n",
              "      <td>0</td>\n",
              "      <td>8</td>\n",
              "      <td>0</td>\n",
              "      <td>-8</td>\n",
              "    </tr>\n",
              "    <tr>\n",
              "      <th>72158</th>\n",
              "      <td>72158</td>\n",
              "      <td>0</td>\n",
              "      <td>0</td>\n",
              "      <td>23</td>\n",
              "      <td>0</td>\n",
              "      <td>-23</td>\n",
              "    </tr>\n",
              "    <tr>\n",
              "      <th>72159</th>\n",
              "      <td>72159</td>\n",
              "      <td>0</td>\n",
              "      <td>0</td>\n",
              "      <td>4</td>\n",
              "      <td>0</td>\n",
              "      <td>-4</td>\n",
              "    </tr>\n",
              "    <tr>\n",
              "      <th>72160</th>\n",
              "      <td>72160</td>\n",
              "      <td>1</td>\n",
              "      <td>1</td>\n",
              "      <td>132</td>\n",
              "      <td>1385</td>\n",
              "      <td>1253</td>\n",
              "    </tr>\n",
              "  </tbody>\n",
              "</table>\n",
              "<p>72161 rows × 6 columns</p>\n",
              "</div>\n",
              "      <button class=\"colab-df-convert\" onclick=\"convertToInteractive('df-e42bb0e0-eee2-4686-987a-abdb4305dce0')\"\n",
              "              title=\"Convert this dataframe to an interactive table.\"\n",
              "              style=\"display:none;\">\n",
              "        \n",
              "  <svg xmlns=\"http://www.w3.org/2000/svg\" height=\"24px\"viewBox=\"0 0 24 24\"\n",
              "       width=\"24px\">\n",
              "    <path d=\"M0 0h24v24H0V0z\" fill=\"none\"/>\n",
              "    <path d=\"M18.56 5.44l.94 2.06.94-2.06 2.06-.94-2.06-.94-.94-2.06-.94 2.06-2.06.94zm-11 1L8.5 8.5l.94-2.06 2.06-.94-2.06-.94L8.5 2.5l-.94 2.06-2.06.94zm10 10l.94 2.06.94-2.06 2.06-.94-2.06-.94-.94-2.06-.94 2.06-2.06.94z\"/><path d=\"M17.41 7.96l-1.37-1.37c-.4-.4-.92-.59-1.43-.59-.52 0-1.04.2-1.43.59L10.3 9.45l-7.72 7.72c-.78.78-.78 2.05 0 2.83L4 21.41c.39.39.9.59 1.41.59.51 0 1.02-.2 1.41-.59l7.78-7.78 2.81-2.81c.8-.78.8-2.07 0-2.86zM5.41 20L4 18.59l7.72-7.72 1.47 1.35L5.41 20z\"/>\n",
              "  </svg>\n",
              "      </button>\n",
              "      \n",
              "  <style>\n",
              "    .colab-df-container {\n",
              "      display:flex;\n",
              "      flex-wrap:wrap;\n",
              "      gap: 12px;\n",
              "    }\n",
              "\n",
              "    .colab-df-convert {\n",
              "      background-color: #E8F0FE;\n",
              "      border: none;\n",
              "      border-radius: 50%;\n",
              "      cursor: pointer;\n",
              "      display: none;\n",
              "      fill: #1967D2;\n",
              "      height: 32px;\n",
              "      padding: 0 0 0 0;\n",
              "      width: 32px;\n",
              "    }\n",
              "\n",
              "    .colab-df-convert:hover {\n",
              "      background-color: #E2EBFA;\n",
              "      box-shadow: 0px 1px 2px rgba(60, 64, 67, 0.3), 0px 1px 3px 1px rgba(60, 64, 67, 0.15);\n",
              "      fill: #174EA6;\n",
              "    }\n",
              "\n",
              "    [theme=dark] .colab-df-convert {\n",
              "      background-color: #3B4455;\n",
              "      fill: #D2E3FC;\n",
              "    }\n",
              "\n",
              "    [theme=dark] .colab-df-convert:hover {\n",
              "      background-color: #434B5C;\n",
              "      box-shadow: 0px 1px 3px 1px rgba(0, 0, 0, 0.15);\n",
              "      filter: drop-shadow(0px 1px 2px rgba(0, 0, 0, 0.3));\n",
              "      fill: #FFFFFF;\n",
              "    }\n",
              "  </style>\n",
              "\n",
              "      <script>\n",
              "        const buttonEl =\n",
              "          document.querySelector('#df-e42bb0e0-eee2-4686-987a-abdb4305dce0 button.colab-df-convert');\n",
              "        buttonEl.style.display =\n",
              "          google.colab.kernel.accessAllowed ? 'block' : 'none';\n",
              "\n",
              "        async function convertToInteractive(key) {\n",
              "          const element = document.querySelector('#df-e42bb0e0-eee2-4686-987a-abdb4305dce0');\n",
              "          const dataTable =\n",
              "            await google.colab.kernel.invokeFunction('convertToInteractive',\n",
              "                                                     [key], {});\n",
              "          if (!dataTable) return;\n",
              "\n",
              "          const docLinkHtml = 'Like what you see? Visit the ' +\n",
              "            '<a target=\"_blank\" href=https://colab.research.google.com/notebooks/data_table.ipynb>data table notebook</a>'\n",
              "            + ' to learn more about interactive tables.';\n",
              "          element.innerHTML = '';\n",
              "          dataTable['output_type'] = 'display_data';\n",
              "          await google.colab.output.renderOutput(dataTable, element);\n",
              "          const docLink = document.createElement('div');\n",
              "          docLink.innerHTML = docLinkHtml;\n",
              "          element.appendChild(docLink);\n",
              "        }\n",
              "      </script>\n",
              "    </div>\n",
              "  </div>\n",
              "  "
            ]
          },
          "metadata": {},
          "execution_count": 2
        }
      ]
    },
    {
      "cell_type": "markdown",
      "source": [
        "* ID - номер задания на звонок\n",
        "* Флаг дозвона - 1 если в рамках задания мы дозвонились человеку, иначе 0\n",
        "* Флаг продажи - 1 если в рамках задания мы продали наш продукт человеку, иначе 0\n",
        "* Расходы - сумма затрат на задание\n",
        "* PV - 0 если мы не продали наш продукт, иначе = PV проданного продукта\n",
        "* NPV = PV - Расходы"
      ],
      "metadata": {
        "id": "NTw0mudkOZMi"
      },
      "id": "NTw0mudkOZMi"
    },
    {
      "cell_type": "markdown",
      "id": "0dd4c840",
      "metadata": {
        "id": "0dd4c840"
      },
      "source": [
        "### 1. Необходимо выбрать метрику и привести аргументацию."
      ]
    },
    {
      "cell_type": "markdown",
      "source": [
        "Будем использовать метрику расходы - сумму затрат на задание, которая включает затраты на оператора. Метрика позволит наиболее точно ответить на поставленный вопрос: снизяться ли затраты на операторов, если внедрить систему автоматического дозвона. Если расходы снизяться, значит затраты на операторов снизились"
      ],
      "metadata": {
        "id": "-U9mXvKuVXv2"
      },
      "id": "-U9mXvKuVXv2"
    },
    {
      "cell_type": "markdown",
      "id": "b644cd0a",
      "metadata": {
        "id": "b644cd0a"
      },
      "source": [
        "### 2. Альтернатива в критерии."
      ]
    },
    {
      "cell_type": "markdown",
      "source": [
        "H0: расходы при использовании системы автоматического дозвона не отличаются от расходов без использования этой системы\n",
        "\n",
        "H1: при использовании системы автоматического дозвона расходы снизяться"
      ],
      "metadata": {
        "id": "30xCudxPAGOx"
      },
      "id": "30xCudxPAGOx"
    },
    {
      "cell_type": "markdown",
      "id": "727aefc4",
      "metadata": {
        "id": "727aefc4"
      },
      "source": [
        "### 3. Каков размер выборки? Привести аргументацию и написать как получилось то или иное число."
      ]
    },
    {
      "cell_type": "markdown",
      "source": [
        "Из условия имеем:\n",
        "- односторонняя альтернатива\n",
        "- alpha =  0.05\n",
        "- beta = 0.1 (1 - 0.9) \n",
        "- желаемое изменение метрики = 0.05\n",
        "\n",
        "MDE = средние расходы * желаемое изменение метрики\n",
        "\n",
        "Формула для расчета выборки: N = (2 * σ^2 * (Z_1-α - Zβ) ^2) / MDE^2\n",
        "\n"
      ],
      "metadata": {
        "id": "_oZS1c1_ls6c"
      },
      "id": "_oZS1c1_ls6c"
    },
    {
      "cell_type": "code",
      "source": [
        "MDE = df['Расходы'].mean() * 0.05\n",
        "sigma_2 = df['Расходы'].var(ddof=1)\n",
        "N  = (2 * sigma_2 * (st.norm.ppf(1 - 0.05) - st.norm.ppf(0.1))**2)  / MDE ** 2\n",
        "print('Размер выборки: ', round(N))"
      ],
      "metadata": {
        "id": "ekXUhCwXTG7-",
        "colab": {
          "base_uri": "https://localhost:8080/"
        },
        "outputId": "697ac9d5-831e-4695-ae4f-ddc39c02cbce"
      },
      "id": "ekXUhCwXTG7-",
      "execution_count": null,
      "outputs": [
        {
          "output_type": "stream",
          "name": "stdout",
          "text": [
            "Размер выборки:  22531\n"
          ]
        }
      ]
    },
    {
      "cell_type": "code",
      "source": [
        "!gdown --id 1eZ1FvYc8gKrWb5rS3_e463bZR8gr3Ip8\n",
        "!gdown --id 1Te4jvqR1juwbuYGwN0wXXqO2tYttqI9T\n",
        "t1 = pd.read_csv('Тест1.csv')\n",
        "c1 = pd.read_csv('Контроль1.csv')"
      ],
      "metadata": {
        "colab": {
          "base_uri": "https://localhost:8080/"
        },
        "id": "bBGIP4HGT1dF",
        "outputId": "99f8816f-a567-45ed-c553-f76fb8c88f37"
      },
      "id": "bBGIP4HGT1dF",
      "execution_count": null,
      "outputs": [
        {
          "output_type": "stream",
          "name": "stdout",
          "text": [
            "/usr/local/lib/python3.10/dist-packages/gdown/cli.py:121: FutureWarning: Option `--id` was deprecated in version 4.3.1 and will be removed in 5.0. You don't need to pass it anymore to use a file ID.\n",
            "  warnings.warn(\n",
            "Downloading...\n",
            "From: https://drive.google.com/uc?id=1eZ1FvYc8gKrWb5rS3_e463bZR8gr3Ip8\n",
            "To: /content/Тест1.csv\n",
            "100% 446k/446k [00:00<00:00, 75.9MB/s]\n",
            "/usr/local/lib/python3.10/dist-packages/gdown/cli.py:121: FutureWarning: Option `--id` was deprecated in version 4.3.1 and will be removed in 5.0. You don't need to pass it anymore to use a file ID.\n",
            "  warnings.warn(\n",
            "Downloading...\n",
            "From: https://drive.google.com/uc?id=1Te4jvqR1juwbuYGwN0wXXqO2tYttqI9T\n",
            "To: /content/Контроль1.csv\n",
            "100% 446k/446k [00:00<00:00, 30.4MB/s]\n"
          ]
        }
      ]
    },
    {
      "cell_type": "markdown",
      "id": "22e2d9b0",
      "metadata": {
        "id": "22e2d9b0"
      },
      "source": [
        "### 4. Принятие решения. Расписать подробно с аргументами."
      ]
    },
    {
      "cell_type": "code",
      "source": [
        "t1['Расходы'].describe()"
      ],
      "metadata": {
        "colab": {
          "base_uri": "https://localhost:8080/"
        },
        "id": "4fIcqaiSbu0n",
        "outputId": "9c96b36d-16ac-4b4a-ab79-a0a2cc37ccd8"
      },
      "id": "4fIcqaiSbu0n",
      "execution_count": null,
      "outputs": [
        {
          "output_type": "execute_result",
          "data": {
            "text/plain": [
              "count    22531.000000\n",
              "mean       195.398695\n",
              "std        353.283433\n",
              "min          0.000000\n",
              "25%         21.000000\n",
              "50%         58.000000\n",
              "75%        178.000000\n",
              "max       5617.000000\n",
              "Name: Расходы, dtype: float64"
            ]
          },
          "metadata": {},
          "execution_count": 5
        }
      ]
    },
    {
      "cell_type": "code",
      "source": [
        "c1['Расходы'].describe()"
      ],
      "metadata": {
        "colab": {
          "base_uri": "https://localhost:8080/"
        },
        "id": "ZNe-2YwXb2It",
        "outputId": "7171d86a-07b2-49f4-aaba-2ec674da2b6d"
      },
      "id": "ZNe-2YwXb2It",
      "execution_count": null,
      "outputs": [
        {
          "output_type": "execute_result",
          "data": {
            "text/plain": [
              "count    22531.000000\n",
              "mean       195.907505\n",
              "std        352.791684\n",
              "min          0.000000\n",
              "25%         21.000000\n",
              "50%         58.000000\n",
              "75%        178.000000\n",
              "max       4428.000000\n",
              "Name: Расходы, dtype: float64"
            ]
          },
          "metadata": {},
          "execution_count": 6
        }
      ]
    },
    {
      "cell_type": "markdown",
      "source": [
        "Проверим выборки на равенство дисперсий тестом Левена\n",
        "\n",
        "H0: дисперсии тестовой и контрольной группы равны\n",
        "\n",
        "H1: дисперсии тестовой и контрольной группы различаются"
      ],
      "metadata": {
        "id": "s4uSXkSKfq-A"
      },
      "id": "s4uSXkSKfq-A"
    },
    {
      "cell_type": "code",
      "source": [
        "statistic, p_value = levene(t1['Расходы'], c1['Расходы'])\n",
        "print(\"p-value:\", p_value)\n",
        "if p_value < .05:\n",
        "    print('Отвергаем нулевую гипотезу')\n",
        "else:\n",
        "    print('Не получилось отвергнуть нулевую гипотезу')"
      ],
      "metadata": {
        "colab": {
          "base_uri": "https://localhost:8080/"
        },
        "id": "VjYFI-Ihe3zZ",
        "outputId": "1ac0a9e2-e0db-4387-ec24-c01768d7fe40"
      },
      "id": "VjYFI-Ihe3zZ",
      "execution_count": null,
      "outputs": [
        {
          "output_type": "stream",
          "name": "stdout",
          "text": [
            "p-value: 0.9571197396004292\n",
            "Не получилось отвергнуть нулевую гипотезу\n"
          ]
        }
      ]
    },
    {
      "cell_type": "markdown",
      "source": [
        "Дисперсии тестовой и контрольной группы равны. Для проверки гипотезы будем использовать ttest_ind, хоть данные имеют выбросы, но они не являются результатом ошибок или некорректных измерений и имеем достаточно большое количество наблюдений. Установим параметр, указывающий, что дисперсии двух выборок равны equal_var=True и аргумент,  который определяет тип альтернативной гипотезы, alternative='less', так как альтернативная гипотеза заключается в том, что среднее значение тестовой выборки меньше, чем среднее значение контрольной выборки."
      ],
      "metadata": {
        "id": "x2b7Ph-g_mR9"
      },
      "id": "x2b7Ph-g_mR9"
    },
    {
      "cell_type": "code",
      "source": [
        "results = st.ttest_ind(t1['Расходы'], c1['Расходы'], equal_var=True, alternative='less')\n",
        "\n",
        "alpha = 0.05\n",
        "print(results.pvalue) \n",
        "\n",
        "if results.pvalue < alpha:\n",
        "    print('Отвергаем нулевую гипотезу')\n",
        "else:\n",
        "    print('Не получилось отвергнуть нулевую гипотезу')"
      ],
      "metadata": {
        "colab": {
          "base_uri": "https://localhost:8080/"
        },
        "id": "zeoWT3xRUgcL",
        "outputId": "1dcfe6fe-20e4-45ed-b07c-6f360e6f1b6b"
      },
      "id": "zeoWT3xRUgcL",
      "execution_count": null,
      "outputs": [
        {
          "output_type": "stream",
          "name": "stdout",
          "text": [
            "0.43921080046740224\n",
            "Не получилось отвергнуть нулевую гипотезу\n"
          ]
        }
      ]
    },
    {
      "cell_type": "markdown",
      "source": [
        "Т-Тест для двух независимых выборок показал, что нет оснований отвергать нулевую гипотезу. Расходы при использовании системы автоматического дозвона не отличаются от расходов без использования этой системы. То есть внедрение системы автоматического дозвона не показало уменьшения расходов в тестовой группе, а значит вводить эту систему не имеет смысла"
      ],
      "metadata": {
        "id": "5YGkLxUVAP8U"
      },
      "id": "5YGkLxUVAP8U"
    },
    {
      "cell_type": "markdown",
      "id": "f9e15111",
      "metadata": {
        "id": "f9e15111"
      },
      "source": [
        "------------------"
      ]
    },
    {
      "cell_type": "markdown",
      "source": [
        "**Контекст**\n",
        "Мы провели конкурентный анализ\n",
        "и поняли,\n",
        "что тариф нашей услуги достаточно низкий.\n",
        "Мы хотим попробовать повысить тариф,\n",
        "и надеемся,\n",
        "что снижение конверсии в подключение услуги\n",
        "компенсируется ростом дохода с этой услуги.\n",
        "        \n",
        "**Тест**\n",
        "Мы проводим тест,\n",
        "в рамках которого мы разбиваем весь поток\n",
        "на две части рановероятно,\n",
        "где одной части (контролю) \n",
        "мы будем предлагать старый тариф услуги,\n",
        "а второй части (тесту) - новый тариф услуги.\n",
        "Целью этого теста\n",
        "является увеличение доходности услуги.\n",
        "\n",
        "**Статистические вводные**\n",
        "* Проверка однородности выбранного параметра\n",
        "осуществляется с уровнем значимости 2%.\n",
        "* Уровень значимости 5%.\n",
        "* Мы хотели бы различать 8%-ное\n",
        "изменение целевой метрики\n",
        "с вероятностью 90%."
      ],
      "metadata": {
        "id": "SvfLV2Ih6MPn"
      },
      "id": "SvfLV2Ih6MPn"
    },
    {
      "cell_type": "code",
      "source": [
        "!gdown --id 12QQ2oQaF4do22KV9yogGx2x6LZQssHzO\n",
        "credit = pd.read_csv('hist_credit_card.csv')\n",
        "credit"
      ],
      "metadata": {
        "colab": {
          "base_uri": "https://localhost:8080/",
          "height": 548
        },
        "id": "uCivgRJx9f29",
        "outputId": "108cd2a5-08e2-4497-8b38-4cb58c1587bf"
      },
      "id": "uCivgRJx9f29",
      "execution_count": null,
      "outputs": [
        {
          "output_type": "stream",
          "name": "stdout",
          "text": [
            "/usr/local/lib/python3.10/dist-packages/gdown/cli.py:121: FutureWarning: Option `--id` was deprecated in version 4.3.1 and will be removed in 5.0. You don't need to pass it anymore to use a file ID.\n",
            "  warnings.warn(\n",
            "Downloading...\n",
            "From: https://drive.google.com/uc?id=12QQ2oQaF4do22KV9yogGx2x6LZQssHzO\n",
            "To: /content/hist_credit_card.csv\n",
            "100% 8.26M/8.26M [00:00<00:00, 18.3MB/s]\n"
          ]
        },
        {
          "output_type": "execute_result",
          "data": {
            "text/plain": [
              "            ID  Возраст  Доход клиента  Вероятность банкротства  \\\n",
              "0            0       19   21620.835463                 0.138061   \n",
              "1            1       27   24897.990863                 0.035508   \n",
              "2            2       50   23989.526947                 0.098793   \n",
              "3            3       18   38442.409756                 0.365661   \n",
              "4            4       24   21291.521612                 0.036909   \n",
              "...        ...      ...            ...                      ...   \n",
              "123250  123250       32   26099.633927                 0.110756   \n",
              "123251  123251       20   24579.749275                 0.113920   \n",
              "123252  123252       36   34062.902531                 0.247122   \n",
              "123253  123253       67   24609.838522                 0.020752   \n",
              "123254  123254       36   23378.281337                 0.092221   \n",
              "\n",
              "        Флаг утилизации счёта  Расходы  PV КК  PV услуги    NPV  \n",
              "0                           0      102      0          0   -102  \n",
              "1                           1      409  11686       1754  13031  \n",
              "2                           0       16      0          0    -16  \n",
              "3                           1      788  13738       1578  14528  \n",
              "4                           1     1048   6594       2213   7759  \n",
              "...                       ...      ...    ...        ...    ...  \n",
              "123250                      0       47      0          0    -47  \n",
              "123251                      1      594  14268       1672  15346  \n",
              "123252                      1       77   5950       2017   7890  \n",
              "123253                      1      279   6278       1847   7846  \n",
              "123254                      1      186   7093       6109  13016  \n",
              "\n",
              "[123255 rows x 9 columns]"
            ],
            "text/html": [
              "\n",
              "  <div id=\"df-b89bb7e8-2ea7-42a3-9aa0-66df279a0184\">\n",
              "    <div class=\"colab-df-container\">\n",
              "      <div>\n",
              "<style scoped>\n",
              "    .dataframe tbody tr th:only-of-type {\n",
              "        vertical-align: middle;\n",
              "    }\n",
              "\n",
              "    .dataframe tbody tr th {\n",
              "        vertical-align: top;\n",
              "    }\n",
              "\n",
              "    .dataframe thead th {\n",
              "        text-align: right;\n",
              "    }\n",
              "</style>\n",
              "<table border=\"1\" class=\"dataframe\">\n",
              "  <thead>\n",
              "    <tr style=\"text-align: right;\">\n",
              "      <th></th>\n",
              "      <th>ID</th>\n",
              "      <th>Возраст</th>\n",
              "      <th>Доход клиента</th>\n",
              "      <th>Вероятность банкротства</th>\n",
              "      <th>Флаг утилизации счёта</th>\n",
              "      <th>Расходы</th>\n",
              "      <th>PV КК</th>\n",
              "      <th>PV услуги</th>\n",
              "      <th>NPV</th>\n",
              "    </tr>\n",
              "  </thead>\n",
              "  <tbody>\n",
              "    <tr>\n",
              "      <th>0</th>\n",
              "      <td>0</td>\n",
              "      <td>19</td>\n",
              "      <td>21620.835463</td>\n",
              "      <td>0.138061</td>\n",
              "      <td>0</td>\n",
              "      <td>102</td>\n",
              "      <td>0</td>\n",
              "      <td>0</td>\n",
              "      <td>-102</td>\n",
              "    </tr>\n",
              "    <tr>\n",
              "      <th>1</th>\n",
              "      <td>1</td>\n",
              "      <td>27</td>\n",
              "      <td>24897.990863</td>\n",
              "      <td>0.035508</td>\n",
              "      <td>1</td>\n",
              "      <td>409</td>\n",
              "      <td>11686</td>\n",
              "      <td>1754</td>\n",
              "      <td>13031</td>\n",
              "    </tr>\n",
              "    <tr>\n",
              "      <th>2</th>\n",
              "      <td>2</td>\n",
              "      <td>50</td>\n",
              "      <td>23989.526947</td>\n",
              "      <td>0.098793</td>\n",
              "      <td>0</td>\n",
              "      <td>16</td>\n",
              "      <td>0</td>\n",
              "      <td>0</td>\n",
              "      <td>-16</td>\n",
              "    </tr>\n",
              "    <tr>\n",
              "      <th>3</th>\n",
              "      <td>3</td>\n",
              "      <td>18</td>\n",
              "      <td>38442.409756</td>\n",
              "      <td>0.365661</td>\n",
              "      <td>1</td>\n",
              "      <td>788</td>\n",
              "      <td>13738</td>\n",
              "      <td>1578</td>\n",
              "      <td>14528</td>\n",
              "    </tr>\n",
              "    <tr>\n",
              "      <th>4</th>\n",
              "      <td>4</td>\n",
              "      <td>24</td>\n",
              "      <td>21291.521612</td>\n",
              "      <td>0.036909</td>\n",
              "      <td>1</td>\n",
              "      <td>1048</td>\n",
              "      <td>6594</td>\n",
              "      <td>2213</td>\n",
              "      <td>7759</td>\n",
              "    </tr>\n",
              "    <tr>\n",
              "      <th>...</th>\n",
              "      <td>...</td>\n",
              "      <td>...</td>\n",
              "      <td>...</td>\n",
              "      <td>...</td>\n",
              "      <td>...</td>\n",
              "      <td>...</td>\n",
              "      <td>...</td>\n",
              "      <td>...</td>\n",
              "      <td>...</td>\n",
              "    </tr>\n",
              "    <tr>\n",
              "      <th>123250</th>\n",
              "      <td>123250</td>\n",
              "      <td>32</td>\n",
              "      <td>26099.633927</td>\n",
              "      <td>0.110756</td>\n",
              "      <td>0</td>\n",
              "      <td>47</td>\n",
              "      <td>0</td>\n",
              "      <td>0</td>\n",
              "      <td>-47</td>\n",
              "    </tr>\n",
              "    <tr>\n",
              "      <th>123251</th>\n",
              "      <td>123251</td>\n",
              "      <td>20</td>\n",
              "      <td>24579.749275</td>\n",
              "      <td>0.113920</td>\n",
              "      <td>1</td>\n",
              "      <td>594</td>\n",
              "      <td>14268</td>\n",
              "      <td>1672</td>\n",
              "      <td>15346</td>\n",
              "    </tr>\n",
              "    <tr>\n",
              "      <th>123252</th>\n",
              "      <td>123252</td>\n",
              "      <td>36</td>\n",
              "      <td>34062.902531</td>\n",
              "      <td>0.247122</td>\n",
              "      <td>1</td>\n",
              "      <td>77</td>\n",
              "      <td>5950</td>\n",
              "      <td>2017</td>\n",
              "      <td>7890</td>\n",
              "    </tr>\n",
              "    <tr>\n",
              "      <th>123253</th>\n",
              "      <td>123253</td>\n",
              "      <td>67</td>\n",
              "      <td>24609.838522</td>\n",
              "      <td>0.020752</td>\n",
              "      <td>1</td>\n",
              "      <td>279</td>\n",
              "      <td>6278</td>\n",
              "      <td>1847</td>\n",
              "      <td>7846</td>\n",
              "    </tr>\n",
              "    <tr>\n",
              "      <th>123254</th>\n",
              "      <td>123254</td>\n",
              "      <td>36</td>\n",
              "      <td>23378.281337</td>\n",
              "      <td>0.092221</td>\n",
              "      <td>1</td>\n",
              "      <td>186</td>\n",
              "      <td>7093</td>\n",
              "      <td>6109</td>\n",
              "      <td>13016</td>\n",
              "    </tr>\n",
              "  </tbody>\n",
              "</table>\n",
              "<p>123255 rows × 9 columns</p>\n",
              "</div>\n",
              "      <button class=\"colab-df-convert\" onclick=\"convertToInteractive('df-b89bb7e8-2ea7-42a3-9aa0-66df279a0184')\"\n",
              "              title=\"Convert this dataframe to an interactive table.\"\n",
              "              style=\"display:none;\">\n",
              "        \n",
              "  <svg xmlns=\"http://www.w3.org/2000/svg\" height=\"24px\"viewBox=\"0 0 24 24\"\n",
              "       width=\"24px\">\n",
              "    <path d=\"M0 0h24v24H0V0z\" fill=\"none\"/>\n",
              "    <path d=\"M18.56 5.44l.94 2.06.94-2.06 2.06-.94-2.06-.94-.94-2.06-.94 2.06-2.06.94zm-11 1L8.5 8.5l.94-2.06 2.06-.94-2.06-.94L8.5 2.5l-.94 2.06-2.06.94zm10 10l.94 2.06.94-2.06 2.06-.94-2.06-.94-.94-2.06-.94 2.06-2.06.94z\"/><path d=\"M17.41 7.96l-1.37-1.37c-.4-.4-.92-.59-1.43-.59-.52 0-1.04.2-1.43.59L10.3 9.45l-7.72 7.72c-.78.78-.78 2.05 0 2.83L4 21.41c.39.39.9.59 1.41.59.51 0 1.02-.2 1.41-.59l7.78-7.78 2.81-2.81c.8-.78.8-2.07 0-2.86zM5.41 20L4 18.59l7.72-7.72 1.47 1.35L5.41 20z\"/>\n",
              "  </svg>\n",
              "      </button>\n",
              "      \n",
              "  <style>\n",
              "    .colab-df-container {\n",
              "      display:flex;\n",
              "      flex-wrap:wrap;\n",
              "      gap: 12px;\n",
              "    }\n",
              "\n",
              "    .colab-df-convert {\n",
              "      background-color: #E8F0FE;\n",
              "      border: none;\n",
              "      border-radius: 50%;\n",
              "      cursor: pointer;\n",
              "      display: none;\n",
              "      fill: #1967D2;\n",
              "      height: 32px;\n",
              "      padding: 0 0 0 0;\n",
              "      width: 32px;\n",
              "    }\n",
              "\n",
              "    .colab-df-convert:hover {\n",
              "      background-color: #E2EBFA;\n",
              "      box-shadow: 0px 1px 2px rgba(60, 64, 67, 0.3), 0px 1px 3px 1px rgba(60, 64, 67, 0.15);\n",
              "      fill: #174EA6;\n",
              "    }\n",
              "\n",
              "    [theme=dark] .colab-df-convert {\n",
              "      background-color: #3B4455;\n",
              "      fill: #D2E3FC;\n",
              "    }\n",
              "\n",
              "    [theme=dark] .colab-df-convert:hover {\n",
              "      background-color: #434B5C;\n",
              "      box-shadow: 0px 1px 3px 1px rgba(0, 0, 0, 0.15);\n",
              "      filter: drop-shadow(0px 1px 2px rgba(0, 0, 0, 0.3));\n",
              "      fill: #FFFFFF;\n",
              "    }\n",
              "  </style>\n",
              "\n",
              "      <script>\n",
              "        const buttonEl =\n",
              "          document.querySelector('#df-b89bb7e8-2ea7-42a3-9aa0-66df279a0184 button.colab-df-convert');\n",
              "        buttonEl.style.display =\n",
              "          google.colab.kernel.accessAllowed ? 'block' : 'none';\n",
              "\n",
              "        async function convertToInteractive(key) {\n",
              "          const element = document.querySelector('#df-b89bb7e8-2ea7-42a3-9aa0-66df279a0184');\n",
              "          const dataTable =\n",
              "            await google.colab.kernel.invokeFunction('convertToInteractive',\n",
              "                                                     [key], {});\n",
              "          if (!dataTable) return;\n",
              "\n",
              "          const docLinkHtml = 'Like what you see? Visit the ' +\n",
              "            '<a target=\"_blank\" href=https://colab.research.google.com/notebooks/data_table.ipynb>data table notebook</a>'\n",
              "            + ' to learn more about interactive tables.';\n",
              "          element.innerHTML = '';\n",
              "          dataTable['output_type'] = 'display_data';\n",
              "          await google.colab.output.renderOutput(dataTable, element);\n",
              "          const docLink = document.createElement('div');\n",
              "          docLink.innerHTML = docLinkHtml;\n",
              "          element.appendChild(docLink);\n",
              "        }\n",
              "      </script>\n",
              "    </div>\n",
              "  </div>\n",
              "  "
            ]
          },
          "metadata": {},
          "execution_count": 9
        }
      ]
    },
    {
      "cell_type": "markdown",
      "source": [
        "* ID - номер заявки, прошедшей скоринг\n",
        "* Возраст - возраст клиента, указанный при оформлении КК\n",
        "* Доход клиента - доход клиента, указанный при оформлении КК\n",
        "* Вероятность банкротства - оценка вероятности банкротства клиента, полученная с помощью скоринга по параметрам клиента\n",
        "* Флаг утилизация счёта - совершение первой расходной операции на счёте КК\n",
        "* Расходы - сумма затрат на заявку\n",
        "* PV КК - 0 если счёт не утилизирован, иначе = PV кредитной карты\n",
        "* PV услуги - 0 если счёт не утилизирован, иначе = PV этой услуги\n",
        "* NPV = PV КК + PV услуги - Расходы"
      ],
      "metadata": {
        "id": "r4RxL3mZEQ6J"
      },
      "id": "r4RxL3mZEQ6J"
    },
    {
      "cell_type": "markdown",
      "id": "e4691844",
      "metadata": {
        "id": "e4691844"
      },
      "source": [
        "### 1. Необходимо выбрать метрику и привести аргументацию."
      ]
    },
    {
      "cell_type": "markdown",
      "source": [
        "Метрка PV услуги напрямую отражает финансовый результат изменения тарифа"
      ],
      "metadata": {
        "id": "tw3y98L-E7wx"
      },
      "id": "tw3y98L-E7wx"
    },
    {
      "cell_type": "markdown",
      "id": "e36b594c",
      "metadata": {
        "id": "e36b594c"
      },
      "source": [
        "### 2. Альтернатива в критерии."
      ]
    },
    {
      "cell_type": "markdown",
      "source": [
        "H0: PV услуги при новом тарифе услуги не отличается от PV услуги при старом тарифе услуги\n",
        "\n",
        "H1: PV услуги при новом тарифе услуги будет больше, чем при старом тарифе услуги"
      ],
      "metadata": {
        "id": "jl5yROSApN8f"
      },
      "id": "jl5yROSApN8f"
    },
    {
      "cell_type": "markdown",
      "id": "692b97f3",
      "metadata": {
        "id": "692b97f3"
      },
      "source": [
        "### 3. Нужно выбрать параметр(-ы), влияющий(-ие) на целевую метрику. Привести аргументацию."
      ]
    },
    {
      "cell_type": "markdown",
      "source": [
        "Посмотрим корреляцию Спирмена целевой метрики с другими признаками"
      ],
      "metadata": {
        "id": "bJG0j-LHwirK"
      },
      "id": "bJG0j-LHwirK"
    },
    {
      "cell_type": "code",
      "source": [
        "sns.heatmap(credit.corr(method='spearman')['PV услуги'].sort_values(ascending=False).to_frame(), annot=True, cmap='seismic', center=0);"
      ],
      "metadata": {
        "colab": {
          "base_uri": "https://localhost:8080/",
          "height": 435
        },
        "id": "CR0MYoZYjvkN",
        "outputId": "73e382dc-1754-47fc-b62b-45e9d0c39bf8"
      },
      "id": "CR0MYoZYjvkN",
      "execution_count": null,
      "outputs": [
        {
          "output_type": "display_data",
          "data": {
            "text/plain": [
              "<Figure size 640x480 with 2 Axes>"
            ],
            "image/png": "[encoded data removed]"
          },
          "metadata": {}
        }
      ]
    },
    {
      "cell_type": "markdown",
      "source": [
        "Нужно выбрать параметр влияющий на целевую метрику, который можно рассматривать до принятия решения о выдаче кредитной карты, то есть социально-демографические признаки и оценка скоринга, здесь - вероятность банкротства, расчитанная на ее основе. В качестве такого параметра по рассмотренной кореляции больше подходит вероятность банкротства, она самая высокая по модулю"
      ],
      "metadata": {
        "id": "hzAqcdhQIg5a"
      },
      "id": "hzAqcdhQIg5a"
    },
    {
      "cell_type": "markdown",
      "id": "9b40ecbb",
      "metadata": {
        "id": "9b40ecbb"
      },
      "source": [
        "### 4. Каков размер выборки? Привести аргументацию и написать как получилось то или иное число."
      ]
    },
    {
      "cell_type": "markdown",
      "source": [
        "Из условия имеем:\n",
        "- односторонняя альтернатива\n",
        "- alpha =  0.05\n",
        "- beta = 0.1 (1 - 0.9) \n",
        "- желаемое изменение метрики = 0.08\n",
        "\n",
        "MDE = среднее PV услуги * желаемое изменение метрики"
      ],
      "metadata": {
        "id": "BB-bNY1BEvHb"
      },
      "id": "BB-bNY1BEvHb"
    },
    {
      "cell_type": "code",
      "source": [
        "MDE2 = credit['PV услуги'].mean() * 0.08\n",
        "sigma = credit['PV услуги'].var(ddof=1)\n",
        "N2  = (2 * sigma * (st.norm.ppf(1 - 0.05) - st.norm.ppf(0.1))**2)  / MDE2 ** 2\n",
        "print('Размер выборки: ', round(N2))"
      ],
      "metadata": {
        "id": "Q3Zae2tSjQFW",
        "colab": {
          "base_uri": "https://localhost:8080/"
        },
        "outputId": "f4f82dff-e4aa-4e65-9efb-dc2199e0dd37"
      },
      "id": "Q3Zae2tSjQFW",
      "execution_count": null,
      "outputs": [
        {
          "output_type": "stream",
          "name": "stdout",
          "text": [
            "Размер выборки:  2232\n"
          ]
        }
      ]
    },
    {
      "cell_type": "code",
      "source": [
        "!gdown --id 1LNtHiwM8kRo9L9c7Y5fLJ4VElEAoRaEt\n",
        "!gdown --id 1akKkfeMkofKPpBEh9VwBeKipEaGcZcgo\n",
        "t2 = pd.read_csv('Тест.csv')\n",
        "c2 = pd.read_csv('Контроль.csv')"
      ],
      "metadata": {
        "colab": {
          "base_uri": "https://localhost:8080/"
        },
        "id": "73YH3sTHodle",
        "outputId": "53dccd06-3d78-476d-ff8f-1dec20ea27d4"
      },
      "id": "73YH3sTHodle",
      "execution_count": null,
      "outputs": [
        {
          "output_type": "stream",
          "name": "stdout",
          "text": [
            "/usr/local/lib/python3.10/dist-packages/gdown/cli.py:121: FutureWarning: Option `--id` was deprecated in version 4.3.1 and will be removed in 5.0. You don't need to pass it anymore to use a file ID.\n",
            "  warnings.warn(\n",
            "Downloading...\n",
            "From: https://drive.google.com/uc?id=1LNtHiwM8kRo9L9c7Y5fLJ4VElEAoRaEt\n",
            "To: /content/Контроль.csv\n",
            "100% 146k/146k [00:00<00:00, 94.1MB/s]\n",
            "/usr/local/lib/python3.10/dist-packages/gdown/cli.py:121: FutureWarning: Option `--id` was deprecated in version 4.3.1 and will be removed in 5.0. You don't need to pass it anymore to use a file ID.\n",
            "  warnings.warn(\n",
            "Downloading...\n",
            "From: https://drive.google.com/uc?id=1akKkfeMkofKPpBEh9VwBeKipEaGcZcgo\n",
            "To: /content/Тест.csv\n",
            "100% 146k/146k [00:00<00:00, 48.4MB/s]\n"
          ]
        }
      ]
    },
    {
      "cell_type": "markdown",
      "id": "f6945c8f",
      "metadata": {
        "id": "f6945c8f"
      },
      "source": [
        "### 5. Проверка на однородность, применение критерия. Принятие решения. Расписать подробно с аргументами."
      ]
    },
    {
      "cell_type": "markdown",
      "source": [
        "Для проверки двух выборок на однородность по признаку вероятности банкротства будем использовать тест Колмогорова-Смирнова "
      ],
      "metadata": {
        "id": "1sW52Rv3zcCW"
      },
      "id": "1sW52Rv3zcCW"
    },
    {
      "cell_type": "markdown",
      "source": [
        "H0: между распределениями нет разницы, выборки однородны\n",
        "\n",
        "H1: между распределениями есть разница, выборки не однородны"
      ],
      "metadata": {
        "id": "3iEAkV4k0JL0"
      },
      "id": "3iEAkV4k0JL0"
    },
    {
      "cell_type": "code",
      "source": [
        "stat, p = ks_2samp(t2['Вероятность банкротства'], c2['Вероятность банкротства'])\n",
        "alpha = 0.02\n",
        "print(p) \n",
        "\n",
        "if results.pvalue < alpha:\n",
        "    print('Отвергаем нулевую гипотезу')\n",
        "else:\n",
        "    print('Не получилось отвергнуть нулевую гипотезу')"
      ],
      "metadata": {
        "colab": {
          "base_uri": "https://localhost:8080/"
        },
        "id": "PWtVk2xTuvBV",
        "outputId": "175e58e7-cf97-4d91-f838-2c40533feebe"
      },
      "id": "PWtVk2xTuvBV",
      "execution_count": null,
      "outputs": [
        {
          "output_type": "stream",
          "name": "stdout",
          "text": [
            "0.5309206798802529\n",
            "Не получилось отвергнуть нулевую гипотезу\n"
          ]
        }
      ]
    },
    {
      "cell_type": "markdown",
      "source": [
        "Тест Колмогорова-Смирнова показал, что выборки однородны. Проверим выборки на равенство дисперсий тестом Левена\n",
        "\n",
        "H0: дисперсии тестовой и контрольной группы равны\n",
        "\n",
        "H1: дисперсии тестовой и контрольной группы различаются"
      ],
      "metadata": {
        "id": "JN9139FJ1ha4"
      },
      "id": "JN9139FJ1ha4"
    },
    {
      "cell_type": "code",
      "source": [
        "statistic, p_value = levene(t2['PV услуги'], c2['PV услуги'])\n",
        "print(\"p-value:\", p_value)\n",
        "if p_value < .05:\n",
        "    print('Отвергаем нулевую гипотезу')\n",
        "else:\n",
        "    print('Не получилось отвергнуть нулевую гипотезу')"
      ],
      "metadata": {
        "colab": {
          "base_uri": "https://localhost:8080/"
        },
        "id": "YjlY8iGgffsX",
        "outputId": "1f74df5f-a9c7-4299-8134-cb7bedb0a379"
      },
      "id": "YjlY8iGgffsX",
      "execution_count": null,
      "outputs": [
        {
          "output_type": "stream",
          "name": "stdout",
          "text": [
            "p-value: 0.66670000619201\n",
            "Не получилось отвергнуть нулевую гипотезу\n"
          ]
        }
      ]
    },
    {
      "cell_type": "code",
      "source": [
        "t2['NPV'].describe()"
      ],
      "metadata": {
        "colab": {
          "base_uri": "https://localhost:8080/"
        },
        "id": "gWpd6mAe1uC5",
        "outputId": "f4398388-6f9e-495a-d6b4-84b816401125"
      },
      "id": "gWpd6mAe1uC5",
      "execution_count": null,
      "outputs": [
        {
          "output_type": "execute_result",
          "data": {
            "text/plain": [
              "count      2232.000000\n",
              "mean       8625.515233\n",
              "std        9661.736348\n",
              "min        -524.000000\n",
              "25%           0.000000\n",
              "50%        7860.000000\n",
              "75%       10771.250000\n",
              "max      148132.000000\n",
              "Name: NPV, dtype: float64"
            ]
          },
          "metadata": {},
          "execution_count": 20
        }
      ]
    },
    {
      "cell_type": "code",
      "source": [
        "c2['NPV'].describe()"
      ],
      "metadata": {
        "colab": {
          "base_uri": "https://localhost:8080/"
        },
        "id": "WwGW8VBl2F4F",
        "outputId": "849fac6c-032f-452a-a5b5-0fe237cb02af"
      },
      "id": "WwGW8VBl2F4F",
      "execution_count": null,
      "outputs": [
        {
          "output_type": "execute_result",
          "data": {
            "text/plain": [
              "count      2232.000000\n",
              "mean       8766.765681\n",
              "std       14711.746787\n",
              "min        -364.000000\n",
              "25%          -5.000000\n",
              "50%        7743.500000\n",
              "75%       10572.750000\n",
              "max      390579.000000\n",
              "Name: NPV, dtype: float64"
            ]
          },
          "metadata": {},
          "execution_count": 21
        }
      ]
    },
    {
      "cell_type": "markdown",
      "source": [
        "Дисперсии тестовой и контрольной группы равны. Применим ttest_ind к основной гипотезе. Установим параметр, указывающий, что дисперсии двух выборок равны equal_var=True и аргумент,  который определяет тип альтернативной гипотезы, alternative='greater', так как альтернативная гипотеза заключается в том, что среднее значение тестовой выборки больше, чем среднее значение контрольной выборки"
      ],
      "metadata": {
        "id": "N5j-q_dmhGTH"
      },
      "id": "N5j-q_dmhGTH"
    },
    {
      "cell_type": "code",
      "source": [
        "results = st.ttest_ind(t2['PV услуги'], c2['PV услуги'], equal_var=True, alternative='greater')\n",
        "\n",
        "alpha = 0.05\n",
        "print(results.pvalue) \n",
        "\n",
        "if results.pvalue < alpha:\n",
        "    print('Отвергаем нулевую гипотезу')\n",
        "else:\n",
        "    print('Не получилось отвергнуть нулевую гипотезу')"
      ],
      "metadata": {
        "colab": {
          "base_uri": "https://localhost:8080/"
        },
        "id": "nTr4jnYotfvU",
        "outputId": "b6647029-5400-4bd4-cd35-b9e633741e3c"
      },
      "id": "nTr4jnYotfvU",
      "execution_count": null,
      "outputs": [
        {
          "output_type": "stream",
          "name": "stdout",
          "text": [
            "0.0025938546775305413\n",
            "Отвергаем нулевую гипотезу\n"
          ]
        }
      ]
    },
    {
      "cell_type": "markdown",
      "source": [
        "При заданном уровне значимости отвергли нулевую гипотезу. Есть разница между PV услуги тестовой группы с новым тарифом услуги и PV услуги контрольной группы со старым тарифом услуги. При увеличении стоимости тарифа услуги, доходность услуги в тестовой группе изменилась, поэтому стоит увеличить стоимость тарифа услуги для всех клиентов"
      ],
      "metadata": {
        "id": "GR-xqFNNCJgl"
      },
      "id": "GR-xqFNNCJgl"
    }
  ],
  "metadata": {
    "kernelspec": {
      "display_name": "Python 3 (ipykernel)",
      "language": "python",
      "name": "python3"
    },
    "language_info": {
      "codemirror_mode": {
        "name": "ipython",
        "version": 3
      },
      "file_extension": ".py",
      "mimetype": "text/x-python",
      "name": "python",
      "nbconvert_exporter": "python",
      "pygments_lexer": "ipython3",
      "version": "3.9.7"
    },
    "colab": {
      "provenance": [],
      "include_colab_link": true
    }
  },
  "nbformat": 4,
  "nbformat_minor": 5
}