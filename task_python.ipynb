{
  "nbformat": 4,
  "nbformat_minor": 0,
  "metadata": {
    "colab": {
      "provenance": [],
      "authorship_tag": "ABX9TyPBVrQ9dihiDkeM+MtZmsum",
      "include_colab_link": true
    },
    "kernelspec": {
      "name": "python3",
      "display_name": "Python 3"
    },
    "language_info": {
      "name": "python"
    }
  },
  "cells": [
    {
      "cell_type": "markdown",
      "metadata": {
        "id": "view-in-github",
        "colab_type": "text"
      },
      "source": [
        "<a href=\"https://colab.research.google.com/github/Anastasiamay/Tinkoff/blob/main/task_python.ipynb\" target=\"_parent\"><img src=\"https://colab.research.google.com/assets/colab-badge.svg\" alt=\"Open In Colab\"/></a>"
      ]
    },
    {
      "cell_type": "markdown",
      "source": [
        "### Задание Python, сгенерировать данные с помощью модуля random и ответить на вопросы\n",
        "0) Для генерации данных в random необходимо установить seed = \"АДВИ_2023\", длина каждого списка N = 1000;\n",
        "\n",
        "1) index колонка: создать список из N последовательных целых элементов от 1 до 1000 включительно, далее, с помощью специальной функции random перемешать его;\n",
        "\n",
        "2) groups колонка: создать список из N элементов, состоящий из значений из списка [\"группа_1\", \"группа_2\", \"группа_3\", \"группа_4\", \"группа_5\"], необходимо использовать функцию из random которая возвращает список элементов длины k, выбранных из последовательности population с перестановкой элементов;\n",
        "\n",
        "3) uniform колонка: создать список из N элементов, состоящий из целых значение из равномерного распределения [50, 100] ;\n",
        "\n",
        "4) gauss_1, gauss_2, gauss_3 колонки: Создать 3 списка из N элементов каждый, заполненные значениями из нормальных распределений с параметрами:\n",
        "\n",
        "- μ=0,σ=1 -> третья колонка gauss_1;\n",
        "- μ=0,σ=144-> четвертая колонка gauss_2;\n",
        "- μ=50,σ=81 -> пятая колонка gauss_3\n",
        "\n",
        "5) Создать pandas DataFrame, где (1) будет индексом, (2)-(4) колонки, названия колонок [\"groups\", \"uniform\", \"gauss_1\", \"gauss_2\", \"gauss_3\"] соответственно, не забывая проверить, что типы колонок должны соответствовать заявленным типам данных;\n",
        "\n",
        "6) Для колонок gauss_1 и gauss_2 заменить значения на None:\n",
        "\n",
        "- Для gauss_1, если индекс у значение делится на 121 без остатка;\n",
        "- Для gauss_2, если дробная часть больше 0.95\n",
        "\n",
        "7) Теперь, для пропущенных значений gauss_1 и gauss_2:\n",
        "\n",
        "- Для gauss_2 None заменить на среднее по колонке;\n",
        "- Удалить строчки из таблицы, где gauss_1 == None."
      ],
      "metadata": {
        "id": "dXAHozBa1KP0"
      }
    },
    {
      "cell_type": "code",
      "source": [
        "import random\n",
        "import numpy as np\n",
        "import pandas as pd\n",
        "import math\n",
        "# установим seed\n",
        "random.seed(\"АДВИ_2023\")\n",
        "\n",
        "# зададим длину списка\n",
        "N = 1000\n",
        "\n",
        "# сгенерируем данные для колонок\n",
        "index_col = list(range(1, N+1))\n",
        "random.shuffle(index_col)\n",
        "\n",
        "groups_col = random.choices([\"группа_1\", \"группа_2\", \"группа_3\", \"группа_4\", \"группа_5\"], k=N)\n",
        "\n",
        "uniform_col = []\n",
        "for i in range(N):\n",
        "    uniform_col.append(random.randint(50, 100))                 \n",
        "              \n",
        "\n",
        "gauss_1_col = []\n",
        "for i in range(1000): \n",
        "    gauss_1_col.append(random.gauss(0, 1)) \n",
        "    \n",
        "gauss_2_col = []\n",
        "for i in range(1000): \n",
        "    gauss_2_col.append(random.gauss(0, 12))  \n",
        "    \n",
        "gauss_3_col = []\n",
        "for i in range(1000): \n",
        "    gauss_3_col.append(random.gauss(50, 9))     \n",
        "\n",
        "\n",
        "# создадим DataFrame\n",
        "df4 = pd.DataFrame({\n",
        "    \"index\": index_col,\n",
        "    \"groups\": groups_col,\n",
        "    \"uniform\": uniform_col,\n",
        "    \"gauss_1\": gauss_1_col,\n",
        "    \"gauss_2\": gauss_2_col,\n",
        "    \"gauss_3\": gauss_3_col\n",
        "})\n",
        "\n",
        "# заменим значения в колонках gauss_1 и gauss_2 на None\n",
        "df4.loc[df4[\"index\"] % 121 == 0, \"gauss_1\"] = None\n",
        "df4.loc[((np.array(df4[\"gauss_2\"]) - np.floor(np.array(df4[\"gauss_2\"]))) > 0.95) & (df4[\"gauss_2\"] > 0), \"gauss_2\"] = None\n",
        "\n",
        "# Замена пропущенных значений\n",
        "df4[\"gauss_2\"].fillna(df4[\"gauss_2\"].mean(), inplace=True)\n",
        "\n",
        "# Удаление строк с пропущенными значениями gauss_1\n",
        "df4 = df4.dropna(subset=[\"gauss_1\"])\n",
        "\n",
        "# Установка индекса\n",
        "df4 = df4.set_index(\"index\")\n",
        "df4.describe(include='all')"
      ],
      "metadata": {
        "colab": {
          "base_uri": "https://localhost:8080/",
          "height": 394
        },
        "id": "ImNkArz8OJ7s",
        "outputId": "b624130d-7c72-4aa3-a82a-0a1aa25eded3"
      },
      "execution_count": null,
      "outputs": [
        {
          "output_type": "execute_result",
          "data": {
            "text/plain": [
              "          groups     uniform     gauss_1     gauss_2     gauss_3\n",
              "count        992  992.000000  992.000000  992.000000  992.000000\n",
              "unique         5         NaN         NaN         NaN         NaN\n",
              "top     группа_4         NaN         NaN         NaN         NaN\n",
              "freq         222         NaN         NaN         NaN         NaN\n",
              "mean         NaN   74.876008   -0.039448   -0.473799   49.444662\n",
              "std          NaN   14.395724    1.052419   12.069964    9.021853\n",
              "min          NaN   50.000000   -3.933254  -40.394911   19.682732\n",
              "25%          NaN   62.000000   -0.745181   -8.334432   43.492984\n",
              "50%          NaN   75.000000   -0.004941   -0.434114   49.654875\n",
              "75%          NaN   88.000000    0.634956    7.139698   55.627863\n",
              "max          NaN  100.000000    3.040902   34.218271   78.079961"
            ],
            "text/html": [
              "\n",
              "  <div id=\"df-65e9982d-cee4-4bfb-9f9c-0800bfa38dea\">\n",
              "    <div class=\"colab-df-container\">\n",
              "      <div>\n",
              "<style scoped>\n",
              "    .dataframe tbody tr th:only-of-type {\n",
              "        vertical-align: middle;\n",
              "    }\n",
              "\n",
              "    .dataframe tbody tr th {\n",
              "        vertical-align: top;\n",
              "    }\n",
              "\n",
              "    .dataframe thead th {\n",
              "        text-align: right;\n",
              "    }\n",
              "</style>\n",
              "<table border=\"1\" class=\"dataframe\">\n",
              "  <thead>\n",
              "    <tr style=\"text-align: right;\">\n",
              "      <th></th>\n",
              "      <th>groups</th>\n",
              "      <th>uniform</th>\n",
              "      <th>gauss_1</th>\n",
              "      <th>gauss_2</th>\n",
              "      <th>gauss_3</th>\n",
              "    </tr>\n",
              "  </thead>\n",
              "  <tbody>\n",
              "    <tr>\n",
              "      <th>count</th>\n",
              "      <td>992</td>\n",
              "      <td>992.000000</td>\n",
              "      <td>992.000000</td>\n",
              "      <td>992.000000</td>\n",
              "      <td>992.000000</td>\n",
              "    </tr>\n",
              "    <tr>\n",
              "      <th>unique</th>\n",
              "      <td>5</td>\n",
              "      <td>NaN</td>\n",
              "      <td>NaN</td>\n",
              "      <td>NaN</td>\n",
              "      <td>NaN</td>\n",
              "    </tr>\n",
              "    <tr>\n",
              "      <th>top</th>\n",
              "      <td>группа_4</td>\n",
              "      <td>NaN</td>\n",
              "      <td>NaN</td>\n",
              "      <td>NaN</td>\n",
              "      <td>NaN</td>\n",
              "    </tr>\n",
              "    <tr>\n",
              "      <th>freq</th>\n",
              "      <td>222</td>\n",
              "      <td>NaN</td>\n",
              "      <td>NaN</td>\n",
              "      <td>NaN</td>\n",
              "      <td>NaN</td>\n",
              "    </tr>\n",
              "    <tr>\n",
              "      <th>mean</th>\n",
              "      <td>NaN</td>\n",
              "      <td>74.876008</td>\n",
              "      <td>-0.039448</td>\n",
              "      <td>-0.473799</td>\n",
              "      <td>49.444662</td>\n",
              "    </tr>\n",
              "    <tr>\n",
              "      <th>std</th>\n",
              "      <td>NaN</td>\n",
              "      <td>14.395724</td>\n",
              "      <td>1.052419</td>\n",
              "      <td>12.069964</td>\n",
              "      <td>9.021853</td>\n",
              "    </tr>\n",
              "    <tr>\n",
              "      <th>min</th>\n",
              "      <td>NaN</td>\n",
              "      <td>50.000000</td>\n",
              "      <td>-3.933254</td>\n",
              "      <td>-40.394911</td>\n",
              "      <td>19.682732</td>\n",
              "    </tr>\n",
              "    <tr>\n",
              "      <th>25%</th>\n",
              "      <td>NaN</td>\n",
              "      <td>62.000000</td>\n",
              "      <td>-0.745181</td>\n",
              "      <td>-8.334432</td>\n",
              "      <td>43.492984</td>\n",
              "    </tr>\n",
              "    <tr>\n",
              "      <th>50%</th>\n",
              "      <td>NaN</td>\n",
              "      <td>75.000000</td>\n",
              "      <td>-0.004941</td>\n",
              "      <td>-0.434114</td>\n",
              "      <td>49.654875</td>\n",
              "    </tr>\n",
              "    <tr>\n",
              "      <th>75%</th>\n",
              "      <td>NaN</td>\n",
              "      <td>88.000000</td>\n",
              "      <td>0.634956</td>\n",
              "      <td>7.139698</td>\n",
              "      <td>55.627863</td>\n",
              "    </tr>\n",
              "    <tr>\n",
              "      <th>max</th>\n",
              "      <td>NaN</td>\n",
              "      <td>100.000000</td>\n",
              "      <td>3.040902</td>\n",
              "      <td>34.218271</td>\n",
              "      <td>78.079961</td>\n",
              "    </tr>\n",
              "  </tbody>\n",
              "</table>\n",
              "</div>\n",
              "      <button class=\"colab-df-convert\" onclick=\"convertToInteractive('df-65e9982d-cee4-4bfb-9f9c-0800bfa38dea')\"\n",
              "              title=\"Convert this dataframe to an interactive table.\"\n",
              "              style=\"display:none;\">\n",
              "        \n",
              "  <svg xmlns=\"http://www.w3.org/2000/svg\" height=\"24px\"viewBox=\"0 0 24 24\"\n",
              "       width=\"24px\">\n",
              "    <path d=\"M0 0h24v24H0V0z\" fill=\"none\"/>\n",
              "    <path d=\"M18.56 5.44l.94 2.06.94-2.06 2.06-.94-2.06-.94-.94-2.06-.94 2.06-2.06.94zm-11 1L8.5 8.5l.94-2.06 2.06-.94-2.06-.94L8.5 2.5l-.94 2.06-2.06.94zm10 10l.94 2.06.94-2.06 2.06-.94-2.06-.94-.94-2.06-.94 2.06-2.06.94z\"/><path d=\"M17.41 7.96l-1.37-1.37c-.4-.4-.92-.59-1.43-.59-.52 0-1.04.2-1.43.59L10.3 9.45l-7.72 7.72c-.78.78-.78 2.05 0 2.83L4 21.41c.39.39.9.59 1.41.59.51 0 1.02-.2 1.41-.59l7.78-7.78 2.81-2.81c.8-.78.8-2.07 0-2.86zM5.41 20L4 18.59l7.72-7.72 1.47 1.35L5.41 20z\"/>\n",
              "  </svg>\n",
              "      </button>\n",
              "      \n",
              "  <style>\n",
              "    .colab-df-container {\n",
              "      display:flex;\n",
              "      flex-wrap:wrap;\n",
              "      gap: 12px;\n",
              "    }\n",
              "\n",
              "    .colab-df-convert {\n",
              "      background-color: #E8F0FE;\n",
              "      border: none;\n",
              "      border-radius: 50%;\n",
              "      cursor: pointer;\n",
              "      display: none;\n",
              "      fill: #1967D2;\n",
              "      height: 32px;\n",
              "      padding: 0 0 0 0;\n",
              "      width: 32px;\n",
              "    }\n",
              "\n",
              "    .colab-df-convert:hover {\n",
              "      background-color: #E2EBFA;\n",
              "      box-shadow: 0px 1px 2px rgba(60, 64, 67, 0.3), 0px 1px 3px 1px rgba(60, 64, 67, 0.15);\n",
              "      fill: #174EA6;\n",
              "    }\n",
              "\n",
              "    [theme=dark] .colab-df-convert {\n",
              "      background-color: #3B4455;\n",
              "      fill: #D2E3FC;\n",
              "    }\n",
              "\n",
              "    [theme=dark] .colab-df-convert:hover {\n",
              "      background-color: #434B5C;\n",
              "      box-shadow: 0px 1px 3px 1px rgba(0, 0, 0, 0.15);\n",
              "      filter: drop-shadow(0px 1px 2px rgba(0, 0, 0, 0.3));\n",
              "      fill: #FFFFFF;\n",
              "    }\n",
              "  </style>\n",
              "\n",
              "      <script>\n",
              "        const buttonEl =\n",
              "          document.querySelector('#df-65e9982d-cee4-4bfb-9f9c-0800bfa38dea button.colab-df-convert');\n",
              "        buttonEl.style.display =\n",
              "          google.colab.kernel.accessAllowed ? 'block' : 'none';\n",
              "\n",
              "        async function convertToInteractive(key) {\n",
              "          const element = document.querySelector('#df-65e9982d-cee4-4bfb-9f9c-0800bfa38dea');\n",
              "          const dataTable =\n",
              "            await google.colab.kernel.invokeFunction('convertToInteractive',\n",
              "                                                     [key], {});\n",
              "          if (!dataTable) return;\n",
              "\n",
              "          const docLinkHtml = 'Like what you see? Visit the ' +\n",
              "            '<a target=\"_blank\" href=https://colab.research.google.com/notebooks/data_table.ipynb>data table notebook</a>'\n",
              "            + ' to learn more about interactive tables.';\n",
              "          element.innerHTML = '';\n",
              "          dataTable['output_type'] = 'display_data';\n",
              "          await google.colab.output.renderOutput(dataTable, element);\n",
              "          const docLink = document.createElement('div');\n",
              "          docLink.innerHTML = docLinkHtml;\n",
              "          element.appendChild(docLink);\n",
              "        }\n",
              "      </script>\n",
              "    </div>\n",
              "  </div>\n",
              "  "
            ]
          },
          "metadata": {},
          "execution_count": 2
        }
      ]
    },
    {
      "cell_type": "markdown",
      "source": [
        "Для колонки gauss_2 посчитать среднее и среднеквадратическое отклонение.\n",
        "\n",
        "-0.47 12.07"
      ],
      "metadata": {
        "id": "taG37u5Vy-I9"
      }
    },
    {
      "cell_type": "code",
      "source": [
        "df4"
      ],
      "metadata": {
        "colab": {
          "base_uri": "https://localhost:8080/",
          "height": 455
        },
        "id": "Krw9FRpq_hSo",
        "outputId": "a52d53fc-f9d5-434f-b8ec-a832b61a2e87"
      },
      "execution_count": null,
      "outputs": [
        {
          "output_type": "execute_result",
          "data": {
            "text/plain": [
              "         groups  uniform   gauss_1    gauss_2    gauss_3\n",
              "index                                                   \n",
              "476    группа_1       95  3.010291   2.156346  57.455851\n",
              "315    группа_5       77  0.190277  -9.934550  62.694177\n",
              "490    группа_4       96 -0.282161   9.211071  54.688895\n",
              "748    группа_3       56  1.127080 -12.391793  30.192353\n",
              "471    группа_5       52 -1.238270  10.938748  52.682052\n",
              "...         ...      ...       ...        ...        ...\n",
              "260    группа_4       57 -1.484164  -5.911598  49.330196\n",
              "146    группа_4       78 -0.379041  -3.132954  60.329900\n",
              "972    группа_1       52 -0.857206   0.835715  51.926114\n",
              "161    группа_1       62 -0.195475   3.496498  66.310250\n",
              "587    группа_5       60  0.093496  -9.164475  60.897843\n",
              "\n",
              "[992 rows x 5 columns]"
            ],
            "text/html": [
              "\n",
              "  <div id=\"df-8d156b60-31f7-48dd-9ac3-2f52fa8264d1\">\n",
              "    <div class=\"colab-df-container\">\n",
              "      <div>\n",
              "<style scoped>\n",
              "    .dataframe tbody tr th:only-of-type {\n",
              "        vertical-align: middle;\n",
              "    }\n",
              "\n",
              "    .dataframe tbody tr th {\n",
              "        vertical-align: top;\n",
              "    }\n",
              "\n",
              "    .dataframe thead th {\n",
              "        text-align: right;\n",
              "    }\n",
              "</style>\n",
              "<table border=\"1\" class=\"dataframe\">\n",
              "  <thead>\n",
              "    <tr style=\"text-align: right;\">\n",
              "      <th></th>\n",
              "      <th>groups</th>\n",
              "      <th>uniform</th>\n",
              "      <th>gauss_1</th>\n",
              "      <th>gauss_2</th>\n",
              "      <th>gauss_3</th>\n",
              "    </tr>\n",
              "    <tr>\n",
              "      <th>index</th>\n",
              "      <th></th>\n",
              "      <th></th>\n",
              "      <th></th>\n",
              "      <th></th>\n",
              "      <th></th>\n",
              "    </tr>\n",
              "  </thead>\n",
              "  <tbody>\n",
              "    <tr>\n",
              "      <th>476</th>\n",
              "      <td>группа_1</td>\n",
              "      <td>95</td>\n",
              "      <td>3.010291</td>\n",
              "      <td>2.156346</td>\n",
              "      <td>57.455851</td>\n",
              "    </tr>\n",
              "    <tr>\n",
              "      <th>315</th>\n",
              "      <td>группа_5</td>\n",
              "      <td>77</td>\n",
              "      <td>0.190277</td>\n",
              "      <td>-9.934550</td>\n",
              "      <td>62.694177</td>\n",
              "    </tr>\n",
              "    <tr>\n",
              "      <th>490</th>\n",
              "      <td>группа_4</td>\n",
              "      <td>96</td>\n",
              "      <td>-0.282161</td>\n",
              "      <td>9.211071</td>\n",
              "      <td>54.688895</td>\n",
              "    </tr>\n",
              "    <tr>\n",
              "      <th>748</th>\n",
              "      <td>группа_3</td>\n",
              "      <td>56</td>\n",
              "      <td>1.127080</td>\n",
              "      <td>-12.391793</td>\n",
              "      <td>30.192353</td>\n",
              "    </tr>\n",
              "    <tr>\n",
              "      <th>471</th>\n",
              "      <td>группа_5</td>\n",
              "      <td>52</td>\n",
              "      <td>-1.238270</td>\n",
              "      <td>10.938748</td>\n",
              "      <td>52.682052</td>\n",
              "    </tr>\n",
              "    <tr>\n",
              "      <th>...</th>\n",
              "      <td>...</td>\n",
              "      <td>...</td>\n",
              "      <td>...</td>\n",
              "      <td>...</td>\n",
              "      <td>...</td>\n",
              "    </tr>\n",
              "    <tr>\n",
              "      <th>260</th>\n",
              "      <td>группа_4</td>\n",
              "      <td>57</td>\n",
              "      <td>-1.484164</td>\n",
              "      <td>-5.911598</td>\n",
              "      <td>49.330196</td>\n",
              "    </tr>\n",
              "    <tr>\n",
              "      <th>146</th>\n",
              "      <td>группа_4</td>\n",
              "      <td>78</td>\n",
              "      <td>-0.379041</td>\n",
              "      <td>-3.132954</td>\n",
              "      <td>60.329900</td>\n",
              "    </tr>\n",
              "    <tr>\n",
              "      <th>972</th>\n",
              "      <td>группа_1</td>\n",
              "      <td>52</td>\n",
              "      <td>-0.857206</td>\n",
              "      <td>0.835715</td>\n",
              "      <td>51.926114</td>\n",
              "    </tr>\n",
              "    <tr>\n",
              "      <th>161</th>\n",
              "      <td>группа_1</td>\n",
              "      <td>62</td>\n",
              "      <td>-0.195475</td>\n",
              "      <td>3.496498</td>\n",
              "      <td>66.310250</td>\n",
              "    </tr>\n",
              "    <tr>\n",
              "      <th>587</th>\n",
              "      <td>группа_5</td>\n",
              "      <td>60</td>\n",
              "      <td>0.093496</td>\n",
              "      <td>-9.164475</td>\n",
              "      <td>60.897843</td>\n",
              "    </tr>\n",
              "  </tbody>\n",
              "</table>\n",
              "<p>992 rows × 5 columns</p>\n",
              "</div>\n",
              "      <button class=\"colab-df-convert\" onclick=\"convertToInteractive('df-8d156b60-31f7-48dd-9ac3-2f52fa8264d1')\"\n",
              "              title=\"Convert this dataframe to an interactive table.\"\n",
              "              style=\"display:none;\">\n",
              "        \n",
              "  <svg xmlns=\"http://www.w3.org/2000/svg\" height=\"24px\"viewBox=\"0 0 24 24\"\n",
              "       width=\"24px\">\n",
              "    <path d=\"M0 0h24v24H0V0z\" fill=\"none\"/>\n",
              "    <path d=\"M18.56 5.44l.94 2.06.94-2.06 2.06-.94-2.06-.94-.94-2.06-.94 2.06-2.06.94zm-11 1L8.5 8.5l.94-2.06 2.06-.94-2.06-.94L8.5 2.5l-.94 2.06-2.06.94zm10 10l.94 2.06.94-2.06 2.06-.94-2.06-.94-.94-2.06-.94 2.06-2.06.94z\"/><path d=\"M17.41 7.96l-1.37-1.37c-.4-.4-.92-.59-1.43-.59-.52 0-1.04.2-1.43.59L10.3 9.45l-7.72 7.72c-.78.78-.78 2.05 0 2.83L4 21.41c.39.39.9.59 1.41.59.51 0 1.02-.2 1.41-.59l7.78-7.78 2.81-2.81c.8-.78.8-2.07 0-2.86zM5.41 20L4 18.59l7.72-7.72 1.47 1.35L5.41 20z\"/>\n",
              "  </svg>\n",
              "      </button>\n",
              "      \n",
              "  <style>\n",
              "    .colab-df-container {\n",
              "      display:flex;\n",
              "      flex-wrap:wrap;\n",
              "      gap: 12px;\n",
              "    }\n",
              "\n",
              "    .colab-df-convert {\n",
              "      background-color: #E8F0FE;\n",
              "      border: none;\n",
              "      border-radius: 50%;\n",
              "      cursor: pointer;\n",
              "      display: none;\n",
              "      fill: #1967D2;\n",
              "      height: 32px;\n",
              "      padding: 0 0 0 0;\n",
              "      width: 32px;\n",
              "    }\n",
              "\n",
              "    .colab-df-convert:hover {\n",
              "      background-color: #E2EBFA;\n",
              "      box-shadow: 0px 1px 2px rgba(60, 64, 67, 0.3), 0px 1px 3px 1px rgba(60, 64, 67, 0.15);\n",
              "      fill: #174EA6;\n",
              "    }\n",
              "\n",
              "    [theme=dark] .colab-df-convert {\n",
              "      background-color: #3B4455;\n",
              "      fill: #D2E3FC;\n",
              "    }\n",
              "\n",
              "    [theme=dark] .colab-df-convert:hover {\n",
              "      background-color: #434B5C;\n",
              "      box-shadow: 0px 1px 3px 1px rgba(0, 0, 0, 0.15);\n",
              "      filter: drop-shadow(0px 1px 2px rgba(0, 0, 0, 0.3));\n",
              "      fill: #FFFFFF;\n",
              "    }\n",
              "  </style>\n",
              "\n",
              "      <script>\n",
              "        const buttonEl =\n",
              "          document.querySelector('#df-8d156b60-31f7-48dd-9ac3-2f52fa8264d1 button.colab-df-convert');\n",
              "        buttonEl.style.display =\n",
              "          google.colab.kernel.accessAllowed ? 'block' : 'none';\n",
              "\n",
              "        async function convertToInteractive(key) {\n",
              "          const element = document.querySelector('#df-8d156b60-31f7-48dd-9ac3-2f52fa8264d1');\n",
              "          const dataTable =\n",
              "            await google.colab.kernel.invokeFunction('convertToInteractive',\n",
              "                                                     [key], {});\n",
              "          if (!dataTable) return;\n",
              "\n",
              "          const docLinkHtml = 'Like what you see? Visit the ' +\n",
              "            '<a target=\"_blank\" href=https://colab.research.google.com/notebooks/data_table.ipynb>data table notebook</a>'\n",
              "            + ' to learn more about interactive tables.';\n",
              "          element.innerHTML = '';\n",
              "          dataTable['output_type'] = 'display_data';\n",
              "          await google.colab.output.renderOutput(dataTable, element);\n",
              "          const docLink = document.createElement('div');\n",
              "          docLink.innerHTML = docLinkHtml;\n",
              "          element.appendChild(docLink);\n",
              "        }\n",
              "      </script>\n",
              "    </div>\n",
              "  </div>\n",
              "  "
            ]
          },
          "metadata": {},
          "execution_count": 3
        }
      ]
    },
    {
      "cell_type": "markdown",
      "source": [
        "Сколько всего получилось записей в таблице после выполнения всех пунктов из условия?\n",
        "\n",
        "992"
      ],
      "metadata": {
        "id": "EJ8jme65zNbI"
      }
    },
    {
      "cell_type": "code",
      "source": [
        "df4['groups'].value_counts()"
      ],
      "metadata": {
        "colab": {
          "base_uri": "https://localhost:8080/"
        },
        "id": "Ui7EHrpYzYxe",
        "outputId": "51cebd5b-5098-4f5a-c376-ce590e810d17"
      },
      "execution_count": null,
      "outputs": [
        {
          "output_type": "execute_result",
          "data": {
            "text/plain": [
              "группа_4    222\n",
              "группа_1    215\n",
              "группа_2    194\n",
              "группа_3    184\n",
              "группа_5    177\n",
              "Name: groups, dtype: int64"
            ]
          },
          "metadata": {},
          "execution_count": 4
        }
      ]
    },
    {
      "cell_type": "markdown",
      "source": [
        "Какая группа встречается чаще всего и сколько раз?\n",
        "\n",
        "группа_4 222"
      ],
      "metadata": {
        "id": "7Pe7JjkrzfFc"
      }
    },
    {
      "cell_type": "code",
      "source": [
        "df4['gauss'] = (df4['gauss_1']+df4['gauss_2'])/df4['gauss_3']\n",
        "percentile_70 = df4[\"gauss\"].quantile(0.7)\n",
        "percentile_70"
      ],
      "metadata": {
        "colab": {
          "base_uri": "https://localhost:8080/"
        },
        "id": "a-M4qJ6Njwpx",
        "outputId": "42046950-6f85-4d83-dc28-0d8f417cc717"
      },
      "execution_count": null,
      "outputs": [
        {
          "output_type": "execute_result",
          "data": {
            "text/plain": [
              "0.10641825158661447"
            ]
          },
          "metadata": {},
          "execution_count": 3
        }
      ]
    },
    {
      "cell_type": "markdown",
      "source": [
        "Создать новую колонку gauss где значения будут получаться из (gauss_1 + gauss_2) / gauss_3\n",
        "\n",
        "Чему будет равен 70% перцентиль?\n",
        "\n",
        "0.11"
      ],
      "metadata": {
        "id": "Pps8jImx0GVK"
      }
    },
    {
      "cell_type": "code",
      "source": [
        "group_min_uniform = df4.groupby(\"groups\")[\"gauss_3\"].median().sort_values()\n",
        "group_min_uniform"
      ],
      "metadata": {
        "colab": {
          "base_uri": "https://localhost:8080/"
        },
        "id": "eWG1NJlKkEX8",
        "outputId": "aeedca97-f8ed-4606-8b93-a5188f890c0d"
      },
      "execution_count": null,
      "outputs": [
        {
          "output_type": "execute_result",
          "data": {
            "text/plain": [
              "groups\n",
              "группа_4    49.069511\n",
              "группа_3    49.459261\n",
              "группа_1    49.876708\n",
              "группа_5    49.936910\n",
              "группа_2    49.990529\n",
              "Name: gauss_3, dtype: float64"
            ]
          },
          "metadata": {},
          "execution_count": 5
        }
      ]
    },
    {
      "cell_type": "markdown",
      "source": [
        "У какой группы наибольшее значение медианы для gauss_3?\n",
        "\n",
        "группа_2 49.99"
      ],
      "metadata": {
        "id": "R1G0r4E-z3d6"
      }
    },
    {
      "cell_type": "code",
      "source": [
        "q = df4[\"uniform\"].quantile(0.9)\n",
        "\n",
        "count = df4.loc[df4[\"uniform\"] >= q, \"uniform\"].count()\n",
        "count"
      ],
      "metadata": {
        "colab": {
          "base_uri": "https://localhost:8080/"
        },
        "id": "AjDpGk3WkMqd",
        "outputId": "5f242372-d4e1-4bd9-f0a0-b302672819f5"
      },
      "execution_count": null,
      "outputs": [
        {
          "output_type": "execute_result",
          "data": {
            "text/plain": [
              "118"
            ]
          },
          "metadata": {},
          "execution_count": 7
        }
      ]
    },
    {
      "cell_type": "markdown",
      "source": [
        "Сколько записей из колонки uniform имеют значение не ниже значения 90% перцентиля?\n",
        "\n",
        "118"
      ],
      "metadata": {
        "id": "e_eBMiMazvI2"
      }
    },
    {
      "cell_type": "code",
      "source": [
        "group_min_uniform = df4.groupby(\"groups\")[\"gauss_1\"].min().sort_values()\n",
        "group_min_uniform"
      ],
      "metadata": {
        "colab": {
          "base_uri": "https://localhost:8080/"
        },
        "id": "VR9wMi5WkO0N",
        "outputId": "7b701819-aac3-40ad-a67d-8b08ea280915"
      },
      "execution_count": null,
      "outputs": [
        {
          "output_type": "execute_result",
          "data": {
            "text/plain": [
              "groups\n",
              "группа_4   -3.933254\n",
              "группа_1   -3.628448\n",
              "группа_2   -2.692705\n",
              "группа_5   -2.639733\n",
              "группа_3   -2.606773\n",
              "Name: gauss_1, dtype: float64"
            ]
          },
          "metadata": {},
          "execution_count": 8
        }
      ]
    },
    {
      "cell_type": "code",
      "source": [
        "group_min_uniform = df4.groupby(\"groups\")[\"gauss_2\"].min().sort_values()\n",
        "group_min_uniform"
      ],
      "metadata": {
        "colab": {
          "base_uri": "https://localhost:8080/"
        },
        "id": "4tYsu5ZckRYd",
        "outputId": "55115347-88ed-4503-b638-29db9ed8e9e7"
      },
      "execution_count": null,
      "outputs": [
        {
          "output_type": "execute_result",
          "data": {
            "text/plain": [
              "groups\n",
              "группа_5   -40.394911\n",
              "группа_2   -38.365537\n",
              "группа_3   -36.187520\n",
              "группа_4   -29.901064\n",
              "группа_1   -22.109394\n",
              "Name: gauss_2, dtype: float64"
            ]
          },
          "metadata": {},
          "execution_count": 9
        }
      ]
    },
    {
      "cell_type": "markdown",
      "source": [
        "У какой группы наибольшее минимальное значение uniform?\n",
        "\n",
        "Если такого нет, выбрать группу с наибольшим минимальным значением в gauss_1.\n",
        "\n",
        "группа_3 -36.19"
      ],
      "metadata": {
        "id": "XyaEE9rzz-o3"
      }
    },
    {
      "cell_type": "code",
      "source": [
        "group_5 = df4.loc[df4[\"groups\"] == \"группа_5\"]\n",
        "earliest_index = group_5.sort_index().head(1).index.values[0]\n",
        "print(earliest_index)"
      ],
      "metadata": {
        "id": "RMZQumLskT5s",
        "outputId": "ac289919-d275-4551-d067-5b39ffa2f2c3",
        "colab": {
          "base_uri": "https://localhost:8080/"
        }
      },
      "execution_count": null,
      "outputs": [
        {
          "output_type": "stream",
          "name": "stdout",
          "text": [
            "6\n"
          ]
        }
      ]
    },
    {
      "cell_type": "markdown",
      "source": [
        " Для группа_5 вывести самый \"ранний\" (наименьший) индекс.\n",
        "\n",
        " 6"
      ],
      "metadata": {
        "id": "NX6icZ4Bzpps"
      }
    }
  ]
}